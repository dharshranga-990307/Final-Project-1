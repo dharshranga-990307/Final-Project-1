{
  "nbformat": 4,
  "nbformat_minor": 0,
  "metadata": {
    "colab": {
      "provenance": []
    },
    "kernelspec": {
      "name": "python3",
      "display_name": "Python 3"
    },
    "language_info": {
      "name": "python"
    }
  },
  "cells": [
    {
      "cell_type": "code",
      "execution_count": null,
      "metadata": {
        "id": "CM6zDGsMpKaX"
      },
      "outputs": [],
      "source": [
        "import torch\n",
        "import torch.nn as nn\n",
        "import torch.nn.functional as F\n",
        "from torch.utils.data import DataLoader\n",
        "from torchvision import datasets,transforms\n",
        "from torchvision.utils import make_grid\n",
        "\n",
        "import pandas as pd\n",
        "import numpy as np\n",
        "from sklearn.metrics import confusion_matrix\n",
        "import matplotlib.pyplot as plt"
      ]
    },
    {
      "cell_type": "code",
      "source": [
        "train_dataset = datasets.MNIST(root='./data',\n",
        "                            train=True,\n",
        "                            transform=transforms.ToTensor(),\n",
        "                            download=True)\n",
        "\n",
        "test_dataset = datasets.MNIST(root='./data',\n",
        "                           train=False,\n",
        "                           transform=transforms.ToTensor())"
      ],
      "metadata": {
        "colab": {
          "base_uri": "https://localhost:8080/"
        },
        "id": "4vbbp0Fnpu7h",
        "outputId": "435fadb3-b551-4336-dab2-8afc8c9ff51a"
      },
      "execution_count": null,
      "outputs": [
        {
          "output_type": "stream",
          "name": "stdout",
          "text": [
            "Downloading http://yann.lecun.com/exdb/mnist/train-images-idx3-ubyte.gz\n",
            "Failed to download (trying next):\n",
            "HTTP Error 403: Forbidden\n",
            "\n",
            "Downloading https://ossci-datasets.s3.amazonaws.com/mnist/train-images-idx3-ubyte.gz\n",
            "Downloading https://ossci-datasets.s3.amazonaws.com/mnist/train-images-idx3-ubyte.gz to ./data/MNIST/raw/train-images-idx3-ubyte.gz\n"
          ]
        },
        {
          "output_type": "stream",
          "name": "stderr",
          "text": [
            "100%|██████████| 9.91M/9.91M [00:00<00:00, 57.3MB/s]\n"
          ]
        },
        {
          "output_type": "stream",
          "name": "stdout",
          "text": [
            "Extracting ./data/MNIST/raw/train-images-idx3-ubyte.gz to ./data/MNIST/raw\n",
            "\n",
            "Downloading http://yann.lecun.com/exdb/mnist/train-labels-idx1-ubyte.gz\n",
            "Failed to download (trying next):\n",
            "HTTP Error 403: Forbidden\n",
            "\n",
            "Downloading https://ossci-datasets.s3.amazonaws.com/mnist/train-labels-idx1-ubyte.gz\n",
            "Downloading https://ossci-datasets.s3.amazonaws.com/mnist/train-labels-idx1-ubyte.gz to ./data/MNIST/raw/train-labels-idx1-ubyte.gz\n"
          ]
        },
        {
          "output_type": "stream",
          "name": "stderr",
          "text": [
            "100%|██████████| 28.9k/28.9k [00:00<00:00, 1.86MB/s]"
          ]
        },
        {
          "output_type": "stream",
          "name": "stdout",
          "text": [
            "Extracting ./data/MNIST/raw/train-labels-idx1-ubyte.gz to ./data/MNIST/raw\n",
            "\n",
            "Downloading http://yann.lecun.com/exdb/mnist/t10k-images-idx3-ubyte.gz\n"
          ]
        },
        {
          "output_type": "stream",
          "name": "stderr",
          "text": [
            "\n"
          ]
        },
        {
          "output_type": "stream",
          "name": "stdout",
          "text": [
            "Failed to download (trying next):\n",
            "HTTP Error 403: Forbidden\n",
            "\n",
            "Downloading https://ossci-datasets.s3.amazonaws.com/mnist/t10k-images-idx3-ubyte.gz\n",
            "Downloading https://ossci-datasets.s3.amazonaws.com/mnist/t10k-images-idx3-ubyte.gz to ./data/MNIST/raw/t10k-images-idx3-ubyte.gz\n"
          ]
        },
        {
          "output_type": "stream",
          "name": "stderr",
          "text": [
            "100%|██████████| 1.65M/1.65M [00:00<00:00, 14.2MB/s]\n"
          ]
        },
        {
          "output_type": "stream",
          "name": "stdout",
          "text": [
            "Extracting ./data/MNIST/raw/t10k-images-idx3-ubyte.gz to ./data/MNIST/raw\n",
            "\n",
            "Downloading http://yann.lecun.com/exdb/mnist/t10k-labels-idx1-ubyte.gz\n",
            "Failed to download (trying next):\n",
            "HTTP Error 403: Forbidden\n",
            "\n",
            "Downloading https://ossci-datasets.s3.amazonaws.com/mnist/t10k-labels-idx1-ubyte.gz\n",
            "Downloading https://ossci-datasets.s3.amazonaws.com/mnist/t10k-labels-idx1-ubyte.gz to ./data/MNIST/raw/t10k-labels-idx1-ubyte.gz\n"
          ]
        },
        {
          "output_type": "stream",
          "name": "stderr",
          "text": [
            "100%|██████████| 4.54k/4.54k [00:00<00:00, 2.01MB/s]"
          ]
        },
        {
          "output_type": "stream",
          "name": "stdout",
          "text": [
            "Extracting ./data/MNIST/raw/t10k-labels-idx1-ubyte.gz to ./data/MNIST/raw\n",
            "\n"
          ]
        },
        {
          "output_type": "stream",
          "name": "stderr",
          "text": [
            "\n"
          ]
        }
      ]
    },
    {
      "cell_type": "code",
      "source": [
        "train_dataset"
      ],
      "metadata": {
        "colab": {
          "base_uri": "https://localhost:8080/"
        },
        "id": "HjdCYcJ0sOLq",
        "outputId": "0541016a-3493-47f5-b1f7-891acea12e1b"
      },
      "execution_count": null,
      "outputs": [
        {
          "output_type": "execute_result",
          "data": {
            "text/plain": [
              "Dataset MNIST\n",
              "    Number of datapoints: 60000\n",
              "    Root location: ./data\n",
              "    Split: Train\n",
              "    StandardTransform\n",
              "Transform: ToTensor()"
            ]
          },
          "metadata": {},
          "execution_count": 3
        }
      ]
    },
    {
      "cell_type": "code",
      "source": [
        "#creating a batch_size\n",
        "batch_size=10\n",
        "num_epochs = 5\n",
        "learning_rate = 0.001\n",
        "train_loader = torch.utils.data.DataLoader(dataset=train_dataset,\n",
        "                                           batch_size=batch_size,\n",
        "                                           shuffle=True)\n",
        "\n",
        "test_loader = torch.utils.data.DataLoader(dataset=test_dataset,\n",
        "                                          batch_size=batch_size,\n",
        "                                          shuffle=False)"
      ],
      "metadata": {
        "id": "FtmMIqyOrjjD"
      },
      "execution_count": null,
      "outputs": []
    },
    {
      "cell_type": "code",
      "source": [
        "import torchvision\n",
        "\n",
        "# Device configuration\n",
        "device = torch.device('cuda' if torch.cuda.is_available() else 'cpu')\n",
        "\n",
        "# Hyper-parameters\n",
        "num_epochs = 5\n",
        "batch_size = 4\n",
        "learning_rate = 0.001\n",
        "\n",
        "# dataset has PILImage images of range [0, 1].\n",
        "# We transform them to Tensors of normalized range [-1, 1]\n",
        "# transform = transforms.Compose(\n",
        "#     [transforms.ToTensor(),\n",
        "#      transforms.Normalize((0.5), (0.5))])\n",
        "training_transforms=torchvision.transforms.Compose([\n",
        "    torchvision.transforms.ToTensor(),\n",
        "    torchvision.transforms.RandomRotation(degrees=30),\n",
        "    torchvision.transforms.Normalize((0.5), (0.5))\n",
        "    ])\n",
        "\n",
        "testing_transforms=torchvision.transforms.Compose([\n",
        "    torchvision.transforms.ToTensor(),\n",
        "    torchvision.transforms.Normalize((0.5), (0.5))\n",
        "    ])\n",
        "\n",
        "train_dataset = torchvision.datasets.MNIST(root='./data', train=True,\n",
        "                                        download=True, transform=training_transforms)\n",
        "\n",
        "test_dataset = torchvision.datasets.MNIST(root='./data', train=False,\n",
        "                                       download=True, transform=testing_transforms)\n",
        "\n",
        "train_loader = torch.utils.data.DataLoader(train_dataset, batch_size=batch_size,\n",
        "                                          shuffle=True)\n",
        "\n",
        "test_loader = torch.utils.data.DataLoader(test_dataset, batch_size=batch_size,\n",
        "                                         shuffle=False)\n",
        "class ConvNet(nn.Module):\n",
        "    def __init__(self):\n",
        "        super(ConvNet, self).__init__()\n",
        "        self.conv1 = nn.Conv2d(1, 6, 5)#3 input channels, 6 output channels, 5 kernel size, output image size: 14X14\n",
        "        self.pool = nn.MaxPool2d(2, 2)\n",
        "        self.conv2 = nn.Conv2d(6, 16, 5)#6 input channels, 16 output, kernel size: 5X5, output size: 5X5\n",
        "        self.fc1 = nn.Linear(16 * 4 * 4, 120)\n",
        "        self.fc2 = nn.Linear(120, 84)\n",
        "        self.fc3 = nn.Linear(84, 10)\n",
        "\n",
        "    def forward(self, x):\n",
        "        # -> n, 1, 28, 28\n",
        "        x = self.pool(F.relu(self.conv1(x)))  # -> n, 6, 12, 12\n",
        "        #print(x.shape)\n",
        "        x = self.pool(F.relu(self.conv2(x)))  # -> n, 16, 4, 4==> 3d matrix\n",
        "        #print(x.shape)\n",
        "        x = x.view(-1, 16 * 4 * 4)            # -> n, 400\n",
        "        x = F.relu(self.fc1(x))               # -> n, 120\n",
        "        x = F.relu(self.fc2(x))               # -> n, 84\n",
        "        x = self.fc3(x)                       # -> n, 10\n",
        "        return x\n",
        "\n",
        "\n",
        "model = ConvNet().to(device)\n",
        "\n",
        "criterion = nn.CrossEntropyLoss()\n",
        "optimizer = torch.optim.SGD(model.parameters(), lr=learning_rate)\n",
        "\n",
        "n_total_steps = len(train_loader)\n",
        "for epoch in range(num_epochs):\n",
        "    for i,(images, labels) in enumerate(train_loader):\n",
        "        # origin shape: [4, 3, 32, 32] = 4, 3, 1024\n",
        "        # input_layer: 3 input channels, 6 output channels, 5 kernel size\n",
        "        images = images.to(device)\n",
        "        labels = labels.to(device)\n",
        "\n",
        "        # Forward pass\n",
        "        outputs = model(images)\n",
        "        loss = criterion(outputs, labels)\n",
        "\n",
        "        # Backward and optimize\n",
        "        optimizer.zero_grad()\n",
        "        loss.backward()\n",
        "        optimizer.step()\n",
        "\n",
        "        if (i+1) % 2000 == 0:\n",
        "            print (f'Epoch [{epoch+1}/{num_epochs}], Step [{i+1}/{n_total_steps}], Loss: {loss.item():.4f}')\n",
        "\n",
        "print('Finished Training')\n",
        "PATH = './cnn.pth'\n",
        "torch.save(model.state_dict(), PATH)"
      ],
      "metadata": {
        "colab": {
          "base_uri": "https://localhost:8080/"
        },
        "id": "ChUglXQDQlxC",
        "outputId": "227fb7da-9c24-4c1d-fe6e-3467f042054b"
      },
      "execution_count": null,
      "outputs": [
        {
          "output_type": "stream",
          "name": "stdout",
          "text": [
            "Epoch [1/5], Step [2000/15000], Loss: 2.3095\n",
            "Epoch [1/5], Step [4000/15000], Loss: 2.2340\n",
            "Epoch [1/5], Step [6000/15000], Loss: 1.3989\n",
            "Epoch [1/5], Step [8000/15000], Loss: 1.2199\n",
            "Epoch [1/5], Step [10000/15000], Loss: 0.8175\n",
            "Epoch [1/5], Step [12000/15000], Loss: 0.0492\n",
            "Epoch [1/5], Step [14000/15000], Loss: 0.6619\n",
            "Epoch [2/5], Step [2000/15000], Loss: 0.0225\n",
            "Epoch [2/5], Step [4000/15000], Loss: 0.0935\n",
            "Epoch [2/5], Step [6000/15000], Loss: 0.2180\n",
            "Epoch [2/5], Step [8000/15000], Loss: 0.1416\n",
            "Epoch [2/5], Step [10000/15000], Loss: 0.3909\n",
            "Epoch [2/5], Step [12000/15000], Loss: 0.2437\n",
            "Epoch [2/5], Step [14000/15000], Loss: 0.0072\n",
            "Epoch [3/5], Step [2000/15000], Loss: 0.1284\n",
            "Epoch [3/5], Step [4000/15000], Loss: 0.3799\n",
            "Epoch [3/5], Step [6000/15000], Loss: 0.0099\n",
            "Epoch [3/5], Step [8000/15000], Loss: 0.0069\n",
            "Epoch [3/5], Step [10000/15000], Loss: 0.0493\n",
            "Epoch [3/5], Step [12000/15000], Loss: 0.0041\n",
            "Epoch [3/5], Step [14000/15000], Loss: 0.2970\n",
            "Epoch [4/5], Step [2000/15000], Loss: 0.0087\n",
            "Epoch [4/5], Step [4000/15000], Loss: 0.2342\n",
            "Epoch [4/5], Step [6000/15000], Loss: 0.0138\n",
            "Epoch [4/5], Step [8000/15000], Loss: 0.0119\n",
            "Epoch [4/5], Step [10000/15000], Loss: 0.4102\n",
            "Epoch [4/5], Step [12000/15000], Loss: 0.9772\n",
            "Epoch [4/5], Step [14000/15000], Loss: 0.0812\n",
            "Epoch [5/5], Step [2000/15000], Loss: 0.0121\n",
            "Epoch [5/5], Step [4000/15000], Loss: 0.0025\n",
            "Epoch [5/5], Step [6000/15000], Loss: 0.3988\n",
            "Epoch [5/5], Step [8000/15000], Loss: 0.0278\n",
            "Epoch [5/5], Step [10000/15000], Loss: 0.0125\n",
            "Epoch [5/5], Step [12000/15000], Loss: 0.0368\n",
            "Epoch [5/5], Step [14000/15000], Loss: 0.0190\n",
            "Finished Training\n"
          ]
        }
      ]
    },
    {
      "cell_type": "code",
      "source": [
        "\n",
        "with torch.no_grad(): #testing\n",
        "    n_correct = 0\n",
        "    n_samples = 0\n",
        "    n_class_correct = [0 for i in range(10)]\n",
        "    n_class_samples = [0 for i in range(10)]\n",
        "    for images, labels in test_loader:\n",
        "        images = images.to(device)\n",
        "        labels = labels.to(device)\n",
        "        outputs = model(images)\n",
        "        # max returns (value ,index)\n",
        "        _, predicted = torch.max(outputs, 1)\n",
        "        n_samples += labels.size(0)\n",
        "        n_correct += (predicted == labels).sum().item()\n",
        "\n",
        "        for i in range(batch_size):\n",
        "            label = labels[i]\n",
        "            pred = predicted[i]\n",
        "            if (label == pred):\n",
        "                n_class_correct[label] += 1\n",
        "            n_class_samples[label] += 1\n",
        "\n",
        "    acc = 100.0 * n_correct / n_samples\n",
        "    print(f'Accuracy of the network: {acc} %')\n",
        "\n"
      ],
      "metadata": {
        "colab": {
          "base_uri": "https://localhost:8080/"
        },
        "id": "MqU0pKneRHMD",
        "outputId": "a9ff994d-8c24-4016-906a-5e21ac1012a5"
      },
      "execution_count": null,
      "outputs": [
        {
          "output_type": "stream",
          "name": "stdout",
          "text": [
            "Accuracy of the network: 97.48 %\n"
          ]
        }
      ]
    },
    {
      "cell_type": "code",
      "source": [
        "test_dataset[2000][0].reshape(28,28)"
      ],
      "metadata": {
        "colab": {
          "base_uri": "https://localhost:8080/"
        },
        "id": "7jopyJpRL9Qn",
        "outputId": "867fd973-9683-4f45-dbac-b8bf0ab83623"
      },
      "execution_count": null,
      "outputs": [
        {
          "output_type": "execute_result",
          "data": {
            "text/plain": [
              "tensor([[-1.0000, -1.0000, -1.0000, -1.0000, -1.0000, -1.0000, -1.0000, -1.0000,\n",
              "         -1.0000, -1.0000, -1.0000, -1.0000, -1.0000, -1.0000, -1.0000, -1.0000,\n",
              "         -1.0000, -1.0000, -1.0000, -1.0000, -1.0000, -1.0000, -1.0000, -1.0000,\n",
              "         -1.0000, -1.0000, -1.0000, -1.0000],\n",
              "        [-1.0000, -1.0000, -1.0000, -1.0000, -1.0000, -1.0000, -1.0000, -1.0000,\n",
              "         -1.0000, -1.0000, -1.0000, -1.0000, -1.0000, -1.0000, -1.0000, -1.0000,\n",
              "         -1.0000, -1.0000, -1.0000, -1.0000, -1.0000, -1.0000, -1.0000, -1.0000,\n",
              "         -1.0000, -1.0000, -1.0000, -1.0000],\n",
              "        [-1.0000, -1.0000, -1.0000, -1.0000, -1.0000, -1.0000, -1.0000, -1.0000,\n",
              "         -1.0000, -1.0000, -1.0000, -1.0000, -1.0000, -1.0000, -1.0000, -1.0000,\n",
              "         -1.0000, -0.6157,  0.2471, -1.0000, -1.0000, -1.0000, -1.0000, -1.0000,\n",
              "         -1.0000, -1.0000, -1.0000, -1.0000],\n",
              "        [-1.0000, -1.0000, -1.0000, -1.0000, -1.0000, -1.0000, -1.0000, -1.0000,\n",
              "         -1.0000, -1.0000, -1.0000, -1.0000, -1.0000, -1.0000, -1.0000, -0.9059,\n",
              "         -0.0275, -0.1137, -0.3961, -1.0000, -1.0000, -1.0000, -1.0000, -1.0000,\n",
              "         -1.0000, -1.0000, -1.0000, -1.0000],\n",
              "        [-1.0000, -1.0000, -1.0000, -1.0000, -1.0000, -1.0000, -1.0000, -1.0000,\n",
              "         -1.0000, -1.0000, -1.0000, -1.0000, -1.0000, -1.0000, -0.6471,  0.4118,\n",
              "          0.9922,  0.4902, -0.5137, -1.0000, -1.0000, -1.0000, -1.0000, -1.0000,\n",
              "         -1.0000, -1.0000, -1.0000, -1.0000],\n",
              "        [-1.0000, -1.0000, -1.0000, -1.0000, -1.0000, -1.0000, -1.0000, -1.0000,\n",
              "         -1.0000, -1.0000, -1.0000, -1.0000, -1.0000, -1.0000, -0.1294,  0.9922,\n",
              "          0.6000, -0.8275, -1.0000, -1.0000, -1.0000, -1.0000, -1.0000, -1.0000,\n",
              "         -1.0000, -1.0000, -1.0000, -1.0000],\n",
              "        [-1.0000, -1.0000, -1.0000, -1.0000, -1.0000, -1.0000, -1.0000, -1.0000,\n",
              "         -1.0000, -1.0000, -1.0000, -1.0000, -0.6314, -0.2000,  0.6549,  0.2157,\n",
              "         -0.8980, -1.0000, -1.0000, -1.0000, -1.0000, -1.0000, -1.0000, -1.0000,\n",
              "         -1.0000, -1.0000, -1.0000, -1.0000],\n",
              "        [-1.0000, -1.0000, -1.0000, -1.0000, -1.0000, -1.0000, -1.0000, -1.0000,\n",
              "         -1.0000, -1.0000, -1.0000, -1.0000, -0.2392,  0.6471, -0.2549, -1.0000,\n",
              "         -1.0000, -1.0000, -1.0000, -1.0000, -1.0000, -1.0000, -1.0000, -1.0000,\n",
              "         -1.0000, -1.0000, -1.0000, -1.0000],\n",
              "        [-1.0000, -1.0000, -1.0000, -1.0000, -1.0000, -1.0000, -1.0000, -1.0000,\n",
              "         -1.0000, -1.0000, -1.0000, -1.0000,  0.0510,  0.9294, -0.2392, -1.0000,\n",
              "         -1.0000, -1.0000, -1.0000, -1.0000, -1.0000, -1.0000, -1.0000, -1.0000,\n",
              "         -1.0000, -1.0000, -1.0000, -1.0000],\n",
              "        [-1.0000, -1.0000, -1.0000, -1.0000, -1.0000, -1.0000, -1.0000, -1.0000,\n",
              "         -1.0000, -1.0000, -1.0000, -0.6235,  0.8431,  0.4196, -0.9451, -1.0000,\n",
              "         -1.0000, -1.0000, -1.0000, -1.0000, -1.0000, -1.0000, -1.0000, -1.0000,\n",
              "         -1.0000, -1.0000, -1.0000, -1.0000],\n",
              "        [-1.0000, -1.0000, -1.0000, -1.0000, -1.0000, -1.0000, -1.0000, -1.0000,\n",
              "         -1.0000, -1.0000, -0.7490,  0.3098,  0.6471, -0.6078, -1.0000, -1.0000,\n",
              "         -1.0000, -1.0000, -1.0000, -1.0000, -1.0000, -1.0000, -1.0000, -1.0000,\n",
              "         -1.0000, -1.0000, -1.0000, -1.0000],\n",
              "        [-1.0000, -1.0000, -1.0000, -1.0000, -1.0000, -1.0000, -1.0000, -1.0000,\n",
              "         -1.0000, -1.0000, -0.1451,  0.8980, -0.7333, -1.0000, -1.0000, -1.0000,\n",
              "         -1.0000, -1.0000, -1.0000, -1.0000, -1.0000, -1.0000, -1.0000, -1.0000,\n",
              "         -1.0000, -1.0000, -1.0000, -1.0000],\n",
              "        [-1.0000, -1.0000, -1.0000, -1.0000, -1.0000, -1.0000, -1.0000, -1.0000,\n",
              "         -1.0000, -0.8118,  0.3961,  0.5137, -1.0000, -1.0000, -1.0000, -1.0000,\n",
              "         -0.8824, -0.7255, -0.9216, -1.0000, -1.0000, -1.0000, -1.0000, -1.0000,\n",
              "         -1.0000, -1.0000, -1.0000, -1.0000],\n",
              "        [-1.0000, -1.0000, -1.0000, -1.0000, -1.0000, -1.0000, -1.0000, -1.0000,\n",
              "         -1.0000, -1.0000, -0.5137,  0.6314, -0.8980, -1.0000, -0.7725, -0.0196,\n",
              "          0.5922,  0.7412,  0.4902, -0.1216, -0.9451, -1.0000, -1.0000, -1.0000,\n",
              "         -1.0000, -1.0000, -1.0000, -1.0000],\n",
              "        [-1.0000, -1.0000, -1.0000, -1.0000, -1.0000, -1.0000, -1.0000, -1.0000,\n",
              "         -1.0000, -1.0000, -0.3490,  0.9922, -0.0196, -0.7804,  0.6078,  1.0000,\n",
              "          0.9922,  0.9922,  0.9529,  0.5294, -0.1686, -1.0000, -1.0000, -1.0000,\n",
              "         -1.0000, -1.0000, -1.0000, -1.0000],\n",
              "        [-1.0000, -1.0000, -1.0000, -1.0000, -1.0000, -1.0000, -1.0000, -1.0000,\n",
              "         -1.0000, -0.8118,  0.4510,  0.9922,  0.4039,  0.9529,  0.8824,  0.2078,\n",
              "          0.2471,  0.3333, -0.7255, -0.6941,  0.4510, -1.0000, -1.0000, -1.0000,\n",
              "         -1.0000, -1.0000, -1.0000, -1.0000],\n",
              "        [-1.0000, -1.0000, -1.0000, -1.0000, -1.0000, -1.0000, -1.0000, -1.0000,\n",
              "         -1.0000, -1.0000,  0.0039,  0.9922,  0.9922,  0.3882, -0.9529, -1.0000,\n",
              "         -1.0000, -1.0000, -1.0000, -0.4196, -0.0902, -1.0000, -1.0000, -1.0000,\n",
              "         -1.0000, -1.0000, -1.0000, -1.0000],\n",
              "        [-1.0000, -1.0000, -1.0000, -1.0000, -1.0000, -1.0000, -1.0000, -1.0000,\n",
              "         -1.0000, -0.8275,  0.8588,  0.9922,  0.4510, -0.8510, -1.0000, -1.0000,\n",
              "         -1.0000, -1.0000, -0.7490,  0.6627, -0.7725, -1.0000, -1.0000, -1.0000,\n",
              "         -1.0000, -1.0000, -1.0000, -1.0000],\n",
              "        [-1.0000, -1.0000, -1.0000, -1.0000, -1.0000, -1.0000, -1.0000, -1.0000,\n",
              "         -1.0000, -0.4902,  0.8118,  0.5451,  0.6078, -0.8588, -1.0000, -1.0000,\n",
              "         -0.8353, -0.8667,  0.6784,  0.0824, -1.0000, -1.0000, -1.0000, -1.0000,\n",
              "         -1.0000, -1.0000, -1.0000, -1.0000],\n",
              "        [-1.0000, -1.0000, -1.0000, -1.0000, -1.0000, -1.0000, -1.0000, -1.0000,\n",
              "         -1.0000,  0.0902, -0.7176, -0.3333,  0.9137,  0.2706, -0.8275, -0.4588,\n",
              "          0.8745,  0.9922,  0.4667, -1.0000, -1.0000, -1.0000, -1.0000, -1.0000,\n",
              "         -1.0000, -1.0000, -1.0000, -1.0000],\n",
              "        [-1.0000, -1.0000, -1.0000, -1.0000, -1.0000, -1.0000, -1.0000, -1.0000,\n",
              "         -1.0000, -0.7412, -0.8510, -0.8745, -0.6706,  0.8039,  0.8824,  0.9922,\n",
              "          0.9922,  0.2627, -0.9686, -1.0000, -1.0000, -1.0000, -1.0000, -1.0000,\n",
              "         -1.0000, -1.0000, -1.0000, -1.0000],\n",
              "        [-1.0000, -1.0000, -1.0000, -1.0000, -1.0000, -1.0000, -1.0000, -1.0000,\n",
              "         -1.0000, -1.0000, -1.0000, -1.0000, -1.0000, -0.8510,  0.2784,  0.5686,\n",
              "         -0.2000, -0.9765, -1.0000, -1.0000, -1.0000, -1.0000, -1.0000, -1.0000,\n",
              "         -1.0000, -1.0000, -1.0000, -1.0000],\n",
              "        [-1.0000, -1.0000, -1.0000, -1.0000, -1.0000, -1.0000, -1.0000, -1.0000,\n",
              "         -1.0000, -1.0000, -1.0000, -1.0000, -1.0000, -1.0000, -1.0000, -1.0000,\n",
              "         -1.0000, -1.0000, -1.0000, -1.0000, -1.0000, -1.0000, -1.0000, -1.0000,\n",
              "         -1.0000, -1.0000, -1.0000, -1.0000],\n",
              "        [-1.0000, -1.0000, -1.0000, -1.0000, -1.0000, -1.0000, -1.0000, -1.0000,\n",
              "         -1.0000, -1.0000, -1.0000, -1.0000, -1.0000, -1.0000, -1.0000, -1.0000,\n",
              "         -1.0000, -1.0000, -1.0000, -1.0000, -1.0000, -1.0000, -1.0000, -1.0000,\n",
              "         -1.0000, -1.0000, -1.0000, -1.0000],\n",
              "        [-1.0000, -1.0000, -1.0000, -1.0000, -1.0000, -1.0000, -1.0000, -1.0000,\n",
              "         -1.0000, -1.0000, -1.0000, -1.0000, -1.0000, -1.0000, -1.0000, -1.0000,\n",
              "         -1.0000, -1.0000, -1.0000, -1.0000, -1.0000, -1.0000, -1.0000, -1.0000,\n",
              "         -1.0000, -1.0000, -1.0000, -1.0000],\n",
              "        [-1.0000, -1.0000, -1.0000, -1.0000, -1.0000, -1.0000, -1.0000, -1.0000,\n",
              "         -1.0000, -1.0000, -1.0000, -1.0000, -1.0000, -1.0000, -1.0000, -1.0000,\n",
              "         -1.0000, -1.0000, -1.0000, -1.0000, -1.0000, -1.0000, -1.0000, -1.0000,\n",
              "         -1.0000, -1.0000, -1.0000, -1.0000],\n",
              "        [-1.0000, -1.0000, -1.0000, -1.0000, -1.0000, -1.0000, -1.0000, -1.0000,\n",
              "         -1.0000, -1.0000, -1.0000, -1.0000, -1.0000, -1.0000, -1.0000, -1.0000,\n",
              "         -1.0000, -1.0000, -1.0000, -1.0000, -1.0000, -1.0000, -1.0000, -1.0000,\n",
              "         -1.0000, -1.0000, -1.0000, -1.0000],\n",
              "        [-1.0000, -1.0000, -1.0000, -1.0000, -1.0000, -1.0000, -1.0000, -1.0000,\n",
              "         -1.0000, -1.0000, -1.0000, -1.0000, -1.0000, -1.0000, -1.0000, -1.0000,\n",
              "         -1.0000, -1.0000, -1.0000, -1.0000, -1.0000, -1.0000, -1.0000, -1.0000,\n",
              "         -1.0000, -1.0000, -1.0000, -1.0000]])"
            ]
          },
          "metadata": {},
          "execution_count": 20
        }
      ]
    },
    {
      "cell_type": "code",
      "source": [
        "plt.imshow(test_dataset[2000][0].reshape(28,28))"
      ],
      "metadata": {
        "colab": {
          "base_uri": "https://localhost:8080/",
          "height": 448
        },
        "id": "ioF_ZAdZNNvX",
        "outputId": "19afb95f-8506-4f5f-fdec-bec8b14f5216"
      },
      "execution_count": null,
      "outputs": [
        {
          "output_type": "execute_result",
          "data": {
            "text/plain": [
              "<matplotlib.image.AxesImage at 0x79325779b640>"
            ]
          },
          "metadata": {},
          "execution_count": 21
        },
        {
          "output_type": "display_data",
          "data": {
            "text/plain": [
              "<Figure size 640x480 with 1 Axes>"
            ],
            "image/png": "[encoded data removed]"
          },
          "metadata": {}
        }
      ]
    },
    {
      "cell_type": "code",
      "source": [
        "model.eval()\n",
        "with torch.no_grad():\n",
        "  new_image=model(test_dataset[2000][0].view(1,1,28,28))"
      ],
      "metadata": {
        "id": "aCX4H67GMQZU"
      },
      "execution_count": null,
      "outputs": []
    },
    {
      "cell_type": "code",
      "source": [
        "new_image.argmax()"
      ],
      "metadata": {
        "colab": {
          "base_uri": "https://localhost:8080/"
        },
        "id": "cF5_ij0QM9N-",
        "outputId": "eb06da84-bc3c-416c-b2da-6ff5fcdb6a2b"
      },
      "execution_count": null,
      "outputs": [
        {
          "output_type": "execute_result",
          "data": {
            "text/plain": [
              "tensor(6)"
            ]
          },
          "metadata": {},
          "execution_count": 23
        }
      ]
    }
  ]
}